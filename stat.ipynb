{
  "nbformat": 4,
  "nbformat_minor": 0,
  "metadata": {
    "colab": {
      "provenance": [],
      "authorship_tag": "ABX9TyPtfzhPOBdvfYmtkaQJHIMf",
      "include_colab_link": true
    },
    "kernelspec": {
      "name": "python3",
      "display_name": "Python 3"
    },
    "language_info": {
      "name": "python"
    }
  },
  "cells": [
    {
      "cell_type": "markdown",
      "metadata": {
        "id": "view-in-github",
        "colab_type": "text"
      },
      "source": [
        "<a href=\"https://colab.research.google.com/github/pam2307/Data-Analytics/blob/main/stat.ipynb\" target=\"_parent\"><img src=\"https://colab.research.google.com/assets/colab-badge.svg\" alt=\"Open In Colab\"/></a>"
      ]
    },
    {
      "cell_type": "code",
      "execution_count": 11,
      "metadata": {
        "id": "RylOcUIw3O4O"
      },
      "outputs": [],
      "source": []
    },
    {
      "cell_type": "code",
      "source": [
        "import numpy as np\n",
        "import math"
      ],
      "metadata": {
        "id": "4VPE1iJC5MGR"
      },
      "execution_count": 12,
      "outputs": []
    },
    {
      "cell_type": "code",
      "source": [
        "x = np.array([1,2,3,4,5])\n",
        "mean = np.mean(x)\n",
        "mean"
      ],
      "metadata": {
        "colab": {
          "base_uri": "https://localhost:8080/"
        },
        "id": "9MrEJMru5hpP",
        "outputId": "c0fd6245-41b7-423c-a606-8c35fcf82e90"
      },
      "execution_count": 13,
      "outputs": [
        {
          "output_type": "execute_result",
          "data": {
            "text/plain": [
              "3.0"
            ]
          },
          "metadata": {},
          "execution_count": 13
        }
      ]
    },
    {
      "cell_type": "code",
      "source": [
        "#in case the data contains nan values\n",
        "x_nan = np.array([1,2,3,4,math.nan])\n",
        "mean_x_nan = np.nanmean(x_nan)\n",
        "mean_x_nan"
      ],
      "metadata": {
        "id": "BwvxaVAn7f3x",
        "outputId": "947511f0-637b-4b9e-ee71-afca6ad6fd6b",
        "colab": {
          "base_uri": "https://localhost:8080/"
        }
      },
      "execution_count": 14,
      "outputs": [
        {
          "output_type": "execute_result",
          "data": {
            "text/plain": [
              "2.5"
            ]
          },
          "metadata": {},
          "execution_count": 14
        }
      ]
    },
    {
      "cell_type": "code",
      "source": [
        "var = np.var(x)\n",
        "var"
      ],
      "metadata": {
        "id": "CAmmFoe58xoR",
        "outputId": "160b2175-5ff6-4fb6-ff4d-3946fbed8862",
        "colab": {
          "base_uri": "https://localhost:8080/"
        }
      },
      "execution_count": 15,
      "outputs": [
        {
          "output_type": "execute_result",
          "data": {
            "text/plain": [
              "2.0"
            ]
          },
          "metadata": {},
          "execution_count": 15
        }
      ]
    },
    {
      "cell_type": "code",
      "source": [
        "var_x_nan = np.nanvar(x_nan, ddof = 1)\n",
        "var_x_nan"
      ],
      "metadata": {
        "id": "gGbmXEf99fO-",
        "outputId": "cf2ca84d-31fe-49ec-c6d3-30cd01ae41b3",
        "colab": {
          "base_uri": "https://localhost:8080/"
        }
      },
      "execution_count": 16,
      "outputs": [
        {
          "output_type": "execute_result",
          "data": {
            "text/plain": [
              "1.6666666666666667"
            ]
          },
          "metadata": {},
          "execution_count": 16
        }
      ]
    },
    {
      "cell_type": "code",
      "source": [
        "sd_X = np.std(x)\n",
        "sd_X"
      ],
      "metadata": {
        "id": "VvHu7uTXB0mI",
        "outputId": "6d2e67f2-5fbe-4ae7-ecca-22b597847dc3",
        "colab": {
          "base_uri": "https://localhost:8080/"
        }
      },
      "execution_count": 17,
      "outputs": [
        {
          "output_type": "execute_result",
          "data": {
            "text/plain": [
              "1.4142135623730951"
            ]
          },
          "metadata": {},
          "execution_count": 17
        }
      ]
    },
    {
      "cell_type": "code",
      "source": [
        "sd_x_nan = np.nanstd(x_nan, ddof = 1)\n",
        "sd_x_nan"
      ],
      "metadata": {
        "id": "fJBGciXwCD2M",
        "outputId": "356fdf19-8068-4955-dcfa-ea638a12b127",
        "colab": {
          "base_uri": "https://localhost:8080/"
        }
      },
      "execution_count": 20,
      "outputs": [
        {
          "output_type": "execute_result",
          "data": {
            "text/plain": [
              "1.2909944487358056"
            ]
          },
          "metadata": {},
          "execution_count": 20
        }
      ]
    }
  ]
}